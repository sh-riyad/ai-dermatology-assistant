{
 "cells": [
  {
   "cell_type": "code",
   "execution_count": 1,
   "metadata": {
    "colab": {
     "base_uri": "https://localhost:8080/"
    },
    "id": "OlIsIKIKvaR9",
    "outputId": "bc5616b2-b31f-4042-e2da-e8327c690373"
   },
   "outputs": [
    {
     "name": "stderr",
     "output_type": "stream",
     "text": [
      "\n",
      "[notice] A new release of pip available: 22.3 -> 25.0.1\n",
      "[notice] To update, run: python.exe -m pip install --upgrade pip\n"
     ]
    }
   ],
   "source": [
    "!pip install -q langchain_openai langgraph langgraph-checkpoint-sqlite langchain_tavily"
   ]
  },
  {
   "cell_type": "code",
   "execution_count": 2,
   "metadata": {
    "id": "9NfkIuoevjA3"
   },
   "outputs": [],
   "source": [
    "# from langgraph.checkpoint.sqlite import SqliteSaver\n",
    "from langgraph.graph import StateGraph, END\n",
    "from typing import TypedDict, List, Optional\n",
    "import sqlite3\n",
    "from langchain_core.messages import SystemMessage, HumanMessage\n",
    "from langchain_openai import ChatOpenAI\n",
    "import os\n",
    "from langchain_tavily import TavilySearch"
   ]
  },
  {
   "cell_type": "code",
   "execution_count": null,
   "metadata": {
    "id": "KYnjkmZ3vrCa"
   },
   "outputs": [],
   "source": []
  },
  {
   "cell_type": "code",
   "execution_count": 3,
   "metadata": {
    "id": "iNigjW8jv5oR"
   },
   "outputs": [],
   "source": [
    "# conn = sqlite3.connect(\":memory:\", check_same_thread=False)\n",
    "# memory = SqliteSaver(conn)"
   ]
  },
  {
   "cell_type": "code",
   "execution_count": 4,
   "metadata": {
    "id": "G0SE2l7kv-ma"
   },
   "outputs": [],
   "source": [
    "from dotenv import load_dotenv\n",
    "load_dotenv()\n",
    "\n",
    "os.environ[\"OPENAI_API_KEY\"] = os.getenv(\"OPENAI_API_KEY\")\n",
    "os.environ[\"TAVILY_API_KEY\"] = os.getenv(\"TAVILY_API_KEY\")\n",
    "\n",
    "llm = ChatOpenAI(model=\"gpt-4o\")\n",
    "tavily= TavilySearch(max_results=2, topic=\"general\")"
   ]
  },
  {
   "cell_type": "code",
   "execution_count": 5,
   "metadata": {
    "id": "vJUD0KI7wBRq"
   },
   "outputs": [],
   "source": [
    "class AgentState(TypedDict):\n",
    "    task: str\n",
    "    plan: str\n",
    "    draft: str\n",
    "    critique: str\n",
    "    content: List[str]\n",
    "    revision_number: int\n",
    "    max_revisions: int\n",
    "\n",
    "    # e.g. \"short\", \"detailed\"\n",
    "    detail_level: str\n",
    "\n",
    "    # e.g. \"en\" (English), \"es\" (Spanish), etc.\n",
    "    language_preference: str\n",
    "\n",
    "    # any disclaimers to append\n",
    "    disclaimers: str"
   ]
  },
  {
   "cell_type": "code",
   "execution_count": 6,
   "metadata": {
    "id": "o1J9TFiqwQIg"
   },
   "outputs": [],
   "source": [
    "# 1) Planning Prompt\n",
    "PLAN_PROMPT = \"\"\"You are a medical/dermatology expert.\n",
    "The user wants information about a particular skin disease.\n",
    "They may request:\n",
    "- Causes\n",
    "- Remedies/Treatments\n",
    "- Preventive measures or “resistance” to flare-ups\n",
    "\n",
    "Please outline the key sections to cover in a structured response:\n",
    "1) Causes (Etiology)\n",
    "2) Typical Symptoms (optional but helpful)\n",
    "3) Remedies or Treatment Options\n",
    "4) Preventive Measures\n",
    "5) When to Seek Professional Advice (if appropriate)\n",
    "\n",
    "Make sure to consider the user’s detail level preference and any other constraints.\n",
    "\"\"\"\n",
    "\n",
    "# 2) Research Plan Prompt\n",
    "RESEARCH_PLAN_PROMPT = \"\"\"You are a medical researcher tasked with finding relevant data\n",
    "about the identified condition and any user requests (causes, remedies, etc.).\n",
    "Generate up to 3 search queries to collect relevant info from authoritative sources.\"\"\"\n",
    "\n",
    "# 3) Main Writing Prompt\n",
    "# Here we add structure, disclaimers, references, and adapt to detail level & language preference\n",
    "WRITER_PROMPT = \"\"\"You are a dermatology writing assistant.\n",
    "Use the user’s plan and the research content below to produce a structured response.\n",
    "Structure your answer with headings:\n",
    "- **Causes**\n",
    "- **Symptoms** (if relevant)\n",
    "- **Remedies / Treatment Options**\n",
    "- **Preventive Measures / Resistance**\n",
    "- **When to Seek Professional Help** (if relevant)\n",
    "\n",
    "Adjust the level of detail based on the user’s 'detail_level' (e.g., short vs. detailed).\n",
    "Deliver the answer in the user’s language preference if feasible (language_preference).\n",
    "At the end, include any disclaimers from 'disclaimers'.\n",
    "Finally, provide references from the 'content' if they appear to be from reputable sources\n",
    "(e.g., “Reference: [source excerpt or link]”).\n",
    "\n",
    "Below is the aggregated research content you may refer to:\n",
    "\n",
    "{content}\n",
    "\"\"\"\n",
    "\n",
    "# 4) Reflection Prompt\n",
    "REFLECTION_PROMPT = \"\"\"You are reviewing this response for medical accuracy, structure, clarity,\n",
    "and completeness. Suggest improvements or missing points. If references are incomplete or\n",
    "the disclaimers are insufficient, note that as well.\n",
    "If something in the text might conflict with known facts, highlight it.\"\"\"\n",
    "\n",
    "# 5) Research Critique Prompt\n",
    "RESEARCH_CRITIQUE_PROMPT = \"\"\"You are a medical researcher analyzing the critique of the\n",
    "generated response. Provide up to 3 new research queries that could address the critique\n",
    "or bring in missing details.\n",
    "\"\"\"\n"
   ]
  },
  {
   "cell_type": "code",
   "execution_count": 7,
   "metadata": {
    "id": "ESTL69OWwQFe"
   },
   "outputs": [],
   "source": [
    "from pydantic import BaseModel\n",
    "\n",
    "class Queries(BaseModel):\n",
    "    queries: List[str]"
   ]
  },
  {
   "cell_type": "code",
   "execution_count": 8,
   "metadata": {
    "id": "GQaPKtQ4wQCc"
   },
   "outputs": [],
   "source": [
    "def plan_node(state: AgentState):\n",
    "    \"\"\"Outline the approach for covering the user’s question.\"\"\"\n",
    "    messages = [\n",
    "        SystemMessage(content=PLAN_PROMPT),\n",
    "        HumanMessage(content=f\"User request: {state['task']}\\n\\nDetail level: {state['detail_level']}\\nLanguage: {state['language_preference']}\")\n",
    "    ]\n",
    "    response = llm.invoke(messages)\n",
    "    return {\"plan\": response.content}"
   ]
  },
  {
   "cell_type": "code",
   "execution_count": 9,
   "metadata": {
    "id": "6Uncl_epwoCu"
   },
   "outputs": [],
   "source": [
    "def research_plan_node(state: AgentState):\n",
    "    \"\"\"Come up with initial research queries, then fetch info from Tavily (or any data source).\"\"\"\n",
    "    queries_resp = llm.with_structured_output(Queries).invoke([\n",
    "        SystemMessage(content=RESEARCH_PLAN_PROMPT),\n",
    "        HumanMessage(content=state['task'])\n",
    "    ])\n",
    "    content_list = state.get('content', [])\n",
    "\n",
    "    for q in queries_resp.queries:\n",
    "        # Example: Use Tavily to fetch relevant data\n",
    "        # Add to 'content' for future reference\n",
    "        search_result = tavily.invoke({\"query\": q})\n",
    "        for r in search_result['results']:\n",
    "            content_list.append(r['content'])\n",
    "\n",
    "    return {\"content\": content_list}"
   ]
  },
  {
   "cell_type": "code",
   "execution_count": 10,
   "metadata": {
    "id": "683ga1oJwn_2"
   },
   "outputs": [],
   "source": [
    "def generation_node(state: AgentState):\n",
    "    \"\"\"Generate a structured draft with disclaimers, references, user language preference, etc.\"\"\"\n",
    "    content_str = \"\\n\\n\".join(state['content'] or [])\n",
    "    user_message = HumanMessage(\n",
    "        content=(\n",
    "            f\"Task: {state['task']}\\n\"\n",
    "            f\"Plan:\\n{state['plan']}\\n\"\n",
    "            f\"Detail level: {state['detail_level']}\\n\"\n",
    "            f\"Language: {state['language_preference']}\\n\"\n",
    "            f\"Disclaimers: {state['disclaimers']}\"\n",
    "        )\n",
    "    )\n",
    "\n",
    "    # Insert disclaimers & references into the final text\n",
    "    messages = [\n",
    "        SystemMessage(content=WRITER_PROMPT.format(content=content_str)),\n",
    "        user_message\n",
    "    ]\n",
    "    response = llm.invoke(messages)\n",
    "\n",
    "    return {\n",
    "        \"draft\": response.content,\n",
    "        \"revision_number\": state.get(\"revision_number\", 1) + 1\n",
    "    }\n"
   ]
  },
  {
   "cell_type": "code",
   "execution_count": 11,
   "metadata": {
    "id": "d3K4BrlMwn9A"
   },
   "outputs": [],
   "source": [
    "def reflection_node(state: AgentState):\n",
    "    \"\"\"Review the draft and generate critique or improvement notes.\"\"\"\n",
    "    messages = [\n",
    "        SystemMessage(content=REFLECTION_PROMPT),\n",
    "        HumanMessage(content=state['draft'])\n",
    "    ]\n",
    "    response = llm.invoke(messages)\n",
    "    return {\"critique\": response.content}"
   ]
  },
  {
   "cell_type": "code",
   "execution_count": 12,
   "metadata": {
    "id": "TxMyZQJowP_T"
   },
   "outputs": [],
   "source": [
    "def research_critique_node(state: AgentState):\n",
    "    \"\"\"If the reflection says something is missing, do new queries to fill in gaps.\"\"\"\n",
    "    queries_resp = llm.with_structured_output(Queries).invoke([\n",
    "        SystemMessage(content=RESEARCH_CRITIQUE_PROMPT),\n",
    "        HumanMessage(content=state['critique'])\n",
    "    ])\n",
    "\n",
    "    content_list = state.get('content', [])\n",
    "    for q in queries_resp.queries:\n",
    "        search_result = tavily.invoke({\"query\": q})\n",
    "        for r in search_result['results']:\n",
    "            content_list.append(r['content'])\n",
    "\n",
    "    return {\"content\": content_list}"
   ]
  },
  {
   "cell_type": "code",
   "execution_count": 13,
   "metadata": {
    "id": "q4XNK2KAwPzE"
   },
   "outputs": [],
   "source": [
    "def should_continue(state: AgentState):\n",
    "    \"\"\"Stop if we've hit the max revisions, otherwise go back to reflection.\"\"\"\n",
    "    if state[\"revision_number\"] > state[\"max_revisions\"]:\n",
    "        return END\n",
    "    return \"reflect\""
   ]
  },
  {
   "cell_type": "code",
   "execution_count": 14,
   "metadata": {
    "id": "Fl__kO6mw0mo"
   },
   "outputs": [],
   "source": [
    "builder = StateGraph(AgentState)\n",
    "\n",
    "builder.add_node(\"planner\", plan_node)\n",
    "builder.add_node(\"research_plan\", research_plan_node)\n",
    "builder.add_node(\"generate\", generation_node)\n",
    "builder.add_node(\"reflect\", reflection_node)\n",
    "builder.add_node(\"research_critique\", research_critique_node)\n",
    "\n",
    "builder.set_entry_point(\"planner\")\n",
    "builder.add_edge(\"planner\", \"research_plan\")\n",
    "builder.add_edge(\"research_plan\", \"generate\")\n",
    "builder.add_conditional_edges(\"generate\", should_continue, {END: END, \"reflect\": \"reflect\"})\n",
    "builder.add_edge(\"reflect\", \"research_critique\")\n",
    "builder.add_edge(\"research_critique\", \"generate\")\n",
    "\n",
    "graph = builder.compile()"
   ]
  },
  {
   "cell_type": "code",
   "execution_count": 15,
   "metadata": {
    "colab": {
     "base_uri": "https://localhost:8080/",
     "height": 563
    },
    "id": "4vTvBXHDw0jG",
    "outputId": "cbab0eee-731d-437e-be43-bce2edd47a44"
   },
   "outputs": [
    {
     "data": {
      "image/png": "[encoded data removed]",
      "text/plain": [
       "<IPython.core.display.Image object>"
      ]
     },
     "metadata": {},
     "output_type": "display_data"
    }
   ],
   "source": [
    "from IPython.display import display, Image\n",
    "from langchain_core.runnables.graph import MermaidDrawMethod\n",
    "\n",
    "display(\n",
    "    Image(\n",
    "        graph.get_graph().draw_mermaid_png(\n",
    "            draw_method=MermaidDrawMethod.API,\n",
    "        ),\n",
    "    )\n",
    ")"
   ]
  },
  {
   "cell_type": "code",
   "execution_count": 16,
   "metadata": {
    "id": "Yv0NvUOiw0gG"
   },
   "outputs": [],
   "source": [
    "thread = {\"configurable\": {\"thread_id\": \"1\"}}\n",
    "\n",
    "initial_state = {\n",
    "    \"task\": \"What are the causes of eczema, and how to prevent it?\",\n",
    "    \"max_revisions\": 2,\n",
    "    # Start with no content, disclaimers, etc.\n",
    "    \"content\": [],\n",
    "    \"revision_number\": 1,\n",
    "    \"plan\": \"\",\n",
    "    \"draft\": \"\",\n",
    "    \"critique\": \"\",\n",
    "    # Additional features\n",
    "    \"detail_level\": \"detailed\",\n",
    "    \"language_preference\": \"en\",  # you could set \"es\" for Spanish, \"fr\" for French, etc.\n",
    "    \"disclaimers\": \"This information is for educational purposes and not a substitute for professional medical advice.\"\n",
    "}"
   ]
  },
  {
   "cell_type": "code",
   "execution_count": 17,
   "metadata": {
    "id": "TQyNZvN4wMka"
   },
   "outputs": [],
   "source": [
    "result_states = []\n",
    "for s in graph.stream(initial_state, thread):\n",
    "    result_states.append(s)"
   ]
  },
  {
   "cell_type": "code",
   "execution_count": 18,
   "metadata": {
    "colab": {
     "base_uri": "https://localhost:8080/",
     "height": 905
    },
    "id": "hFmpb86Rxe2Z",
    "outputId": "316fd4df-c74c-452b-cc5b-f17c980e4cbf"
   },
   "outputs": [
    {
     "data": {
      "text/markdown": [
       "### Causes\n",
       "\n",
       "Eczema, also known as atopic dermatitis, is a chronic skin condition influenced by several interrelated factors:\n",
       "\n",
       "- **Genetic Predisposition**: A family history of eczema can increase the likelihood of developing the condition. Mutations in the FLG gene, responsible for skin barrier formation, often lead to impaired barrier function.\n",
       "  \n",
       "- **Immune System Response**: Eczema involves an overactive immune response leading to skin inflammation.\n",
       "\n",
       "- **Environmental Triggers**: Contact with pollen, mold, dust mites, pet dander, and certain foods can trigger flare-ups. Climate factors, like changes in temperature and humidity, also play a role.\n",
       "\n",
       "- **Skin Barrier Defects**: A defective skin barrier permits irritants and allergens to penetrate, causing inflammation and eruptions.\n",
       "\n",
       "- **Microbial Factors**: The presence of Staphylococcus aureus on the skin can trigger or exacerbate eczema symptoms.\n",
       "\n",
       "### Typical Symptoms\n",
       "\n",
       "Symptoms vary but may include:\n",
       "\n",
       "- Dry, itchy skin\n",
       "- Red and inflamed areas\n",
       "- Thickened, scaly patches\n",
       "- Small blisters that might ooze when scratched\n",
       "\n",
       "### Remedies / Treatment Options\n",
       "\n",
       "Available treatment strategies include:\n",
       "\n",
       "- **Topical Corticosteroids**: To soothe inflammation and reduce itchiness.\n",
       "  \n",
       "- **Moisturizers**: Essential for keeping skin hydrated and preventing dryness.\n",
       "\n",
       "- **Calcineurin Inhibitors**: Such as tacrolimus and pimecrolimus, help manage symptoms.\n",
       "\n",
       "- **Antibiotics**: For treating bacterial skin infections.\n",
       "\n",
       "- **Antihistamines**: To alleviate itching and improve sleep.\n",
       "\n",
       "- **Phototherapy**: Using controlled UV light exposure to treat skin.\n",
       "\n",
       "- **Systemic Medications**: Options like cyclosporine or biologics for severe cases.\n",
       "\n",
       "### Preventive Measures / Resistance\n",
       "\n",
       "To prevent eczema flare-ups:\n",
       "\n",
       "- **Regular Moisturizing**: Apply fragrance-free creams after bathing to lock in moisture.\n",
       "\n",
       "- **Identify and Avoid Triggers**: Track symptoms and potential triggers using a diary.\n",
       "\n",
       "- **Proper Bathing Practices**: Use lukewarm water and gentle, fragrance-free cleansers. Dry skin by patting.\n",
       "\n",
       "- **Choose Comfortable Clothing**: Wear breathable fabrics like cotton; avoid wool and synthetic materials.\n",
       "\n",
       "- **Use a Humidifier**: Maintain air moisture in dry or heated environments.\n",
       "\n",
       "- **Mind Your Diet**: Identify and avoid foods that may provoke symptoms, such as dairy or nuts.\n",
       "\n",
       "### When to Seek Professional Help\n",
       "\n",
       "Consider consulting a healthcare professional if:\n",
       "\n",
       "- Symptoms persist despite self-care measures.\n",
       "- The condition disrupts daily life significantly.\n",
       "- There's evidence of infection, like increased redness or pus.\n",
       "- Existing treatments don't work or cause bothersome side effects.\n",
       "\n",
       "This information is tailored to provide a comprehensive understanding of eczema's causes and preventive measures. For any concerns, always seek the advice of a healthcare provider.\n",
       "\n",
       "_Disclaimer: This information is for educational purposes and not a substitute for professional medical advice._\n",
       "\n",
       "**References:**\n",
       "\n",
       "- National Institute of Allergy and Infectious Diseases Research on Eczema.\n",
       "- Global and U.S. prevalence statistics for eczema."
      ],
      "text/plain": [
       "<IPython.core.display.Markdown object>"
      ]
     },
     "metadata": {},
     "output_type": "display_data"
    }
   ],
   "source": [
    "from IPython.display import display, Markdown\n",
    "display(Markdown(result_states[-1]['generate']['draft']))"
   ]
  },
  {
   "cell_type": "code",
   "execution_count": null,
   "metadata": {
    "id": "c93rgkgkx7HC"
   },
   "outputs": [],
   "source": []
  },
  {
   "cell_type": "code",
   "execution_count": null,
   "metadata": {
    "id": "ebySaj7Nx4je"
   },
   "outputs": [],
   "source": []
  }
 ],
 "metadata": {
  "colab": {
   "provenance": []
  },
  "kernelspec": {
   "display_name": "Python 3 (ipykernel)",
   "language": "python",
   "name": "python3"
  },
  "language_info": {
   "codemirror_mode": {
    "name": "ipython",
    "version": 3
   },
   "file_extension": ".py",
   "mimetype": "text/x-python",
   "name": "python",
   "nbconvert_exporter": "python",
   "pygments_lexer": "ipython3",
   "version": "3.11.0"
  }
 },
 "nbformat": 4,
 "nbformat_minor": 4
}
