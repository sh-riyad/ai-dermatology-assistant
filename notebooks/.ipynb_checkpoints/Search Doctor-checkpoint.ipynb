{
 "cells": [
  {
   "cell_type": "code",
   "execution_count": 1,
   "id": "6e6a2bd4-18f4-4d6b-a111-e4da96259270",
   "metadata": {},
   "outputs": [],
   "source": [
    "from sqlalchemy import create_engine\n",
    "from langchain_community.utilities import SQLDatabase\n",
    "from langchain_community.agent_toolkits import SQLDatabaseToolkit\n",
    "from langchain_openai import ChatOpenAI\n",
    "from langchain_core.messages import BaseMessage, SystemMessage, HumanMessage, AIMessage\n",
    "from langgraph.graph import StateGraph, END\n",
    "from pydantic import BaseModel\n",
    "from typing import Optional, List, Dict\n",
    "\n",
    "# Database connection\n",
    "DATABASE_URL = \"\"\n",
    "engine = create_engine(DATABASE_URL)\n",
    "db = SQLDatabase(engine, include_tables=[\"doctors\"])\n",
    "\n",
    "from dotenv import load_dotenv\n",
    "load_dotenv()\n",
    "import os\n",
    "\n",
    "os.environ[\"OPENAI_API_KEY\"] = os.getenv(\"OPENAI_API_KEY\")\n",
    "llm = ChatOpenAI(model=\"gpt-4o\")"
   ]
  },
  {
   "cell_type": "code",
   "execution_count": 2,
   "id": "ee3ee555-823e-4386-ab42-c720e2120582",
   "metadata": {},
   "outputs": [],
   "source": [
    "import re\n",
    "import json\n",
    "from langchain.prompts import ChatPromptTemplate\n",
    "from langchain_community.agent_toolkits import create_sql_agent"
   ]
  },
  {
   "cell_type": "code",
   "execution_count": 3,
   "id": "faf60a35-b084-47f4-883b-eb92b0cc05f0",
   "metadata": {},
   "outputs": [],
   "source": [
    "SCHEMA_ANALYZER_PROMPT = \"\"\"\n",
    "You are an assistant helping users find doctors. The database has columns: {schema}. \n",
    "Sample data: {sample_data}. Generate a 3 questions to narrow down the search only based on the schema, Output just the questions.\n",
    "specially dont as for names\n",
    "\"\"\"\n",
    "\n",
    "NLP_QUERY_PROMPT = \"\"\"\n",
    "Based on these questions and answers:\n",
    "{questions} \\n {answers}\n",
    "Generate a natural language query like \"Find me a doctor [conditions]\". Just give me the query in string\n",
    "\"\"\""
   ]
  },
  {
   "cell_type": "code",
   "execution_count": 4,
   "id": "e6248f0c-e989-49c1-afef-98bd81ae2d1b",
   "metadata": {},
   "outputs": [],
   "source": [
    "class DoctorSearchState(BaseModel):\n",
    "    task: str\n",
    "    questions: List[str]\n",
    "    need_input: bool\n",
    "    answers: str\n",
    "    nlp_query: str\n",
    "    final_ans: str\n"
   ]
  },
  {
   "cell_type": "code",
   "execution_count": 5,
   "id": "e98f3856-5c78-492d-9b40-6bc786c29b46",
   "metadata": {},
   "outputs": [],
   "source": [
    "# initial_state = DoctorSearchState(\n",
    "#     task= \"Find a Doctor for me\",\n",
    "#     questions= [],\n",
    "#     need_input= False,\n",
    "#     answers= \"\",\n",
    "#     nlp_query= \"\",\n",
    "#     final_ans= \"\",\n",
    "# )"
   ]
  },
  {
   "cell_type": "code",
   "execution_count": 6,
   "id": "ec124218-0f5d-436b-9acd-a461cdc3c570",
   "metadata": {},
   "outputs": [],
   "source": [
    "def schema_analyzer(state: DoctorSearchState) -> DoctorSearchState:\n",
    "    \"\"\"Fetches schema and sample data from the database and generates questions.\"\"\"\n",
    "    # Fetch the table schema\n",
    "    table_info = db.get_table_info([\"doctors\"])\n",
    "    \n",
    "    # Parse schema to extract column names (assumes \"CREATE TABLE ...\" format)\n",
    "    column_pattern = r\"\\((.*)\\)\"  # Match content inside parentheses\n",
    "    columns_str = re.search(column_pattern, table_info).group(1)  # Extract \"id INT, name TEXT, ...\"\n",
    "    columns = [col.split()[0] for col in columns_str.split(\", \")]  # Split into [\"id\", \"name\", ...]\n",
    "    \n",
    "    # Fetch sample data\n",
    "    sample_query = \"SELECT * FROM doctors LIMIT 3\"\n",
    "    sample_data = db.run(sample_query)  # Assume this returns a list of tuples\n",
    "    \n",
    "    # Convert sample data to a list of dictionaries using column names\n",
    "    sample_data_dicts = [dict(zip(columns, row)) for row in sample_data]\n",
    "    \n",
    "    # Format for the prompt\n",
    "    schema_str = \", \".join(columns)\n",
    "    sample_data_str = json.dumps(sample_data_dicts, indent=2) if sample_data_dicts else \"No sample data available.\"\n",
    "    \n",
    "    # Generate questions using the language model\n",
    "    prompt = ChatPromptTemplate.from_template(SCHEMA_ANALYZER_PROMPT).format(\n",
    "        schema=schema_str, sample_data=sample_data_str\n",
    "    )\n",
    "    response = llm.invoke(prompt)\n",
    "    \n",
    "    questions = response.content.split('\\n')\n",
    "    \n",
    "    questions = [q.strip().lstrip('-').strip() for q in questions]\n",
    "    \n",
    "    questions = [q for q in questions if q]\n",
    "    \n",
    "    state.questions = questions\n",
    "    state.need_input = True\n",
    "    return state"
   ]
  },
  {
   "cell_type": "code",
   "execution_count": 7,
   "id": "434476b1-0b23-4c47-8ffb-0866a6a96a5a",
   "metadata": {},
   "outputs": [],
   "source": [
    "# schema_analyzer(initial_state)"
   ]
  },
  {
   "cell_type": "code",
   "execution_count": 8,
   "id": "3b746914-4f70-43a4-8437-d648c460d565",
   "metadata": {},
   "outputs": [],
   "source": [
    "# initial_state.questions"
   ]
  },
  {
   "cell_type": "code",
   "execution_count": 9,
   "id": "42f08530-8f7f-4ec1-8876-1c325fa82323",
   "metadata": {},
   "outputs": [],
   "source": [
    "# initial_state.answers = [\"1. Sylhet\\n 2. Moulvibazar\\n 3.Friday\"]"
   ]
  },
  {
   "cell_type": "code",
   "execution_count": 10,
   "id": "c8ebc981-1df0-4fcb-9df9-59c8f80c7af6",
   "metadata": {},
   "outputs": [],
   "source": [
    "def query_generator_and_executor(state: DoctorSearchState) -> DoctorSearchState:\n",
    "    \"\"\"Generates a natural language query and executes it using the SQL agent.\"\"\"\n",
    "    # Combine questions and answers for the prompt\n",
    "    prompt = ChatPromptTemplate.from_template(NLP_QUERY_PROMPT).format(questions=state.questions, answers=state.answers)\n",
    "    state.nlp_query = llm.invoke(prompt).content\n",
    "    \n",
    "    # Execute the query using the SQL agent\n",
    "    sql_agent = create_sql_agent(llm, db=db, agent_type=\"openai-tools\", verbose=True)\n",
    "    query_ans = sql_agent.invoke(state.nlp_query)\n",
    "\n",
    "    state.final_ans = query_ans['output']\n",
    "    return state"
   ]
  },
  {
   "cell_type": "code",
   "execution_count": 11,
   "id": "66741667-5b09-4f4b-934b-665e6a8335c5",
   "metadata": {},
   "outputs": [],
   "source": [
    "# query_generator_and_executor(initial_state)"
   ]
  },
  {
   "cell_type": "code",
   "execution_count": 12,
   "id": "56064d4d-f8fe-48ec-b849-d1140fc740ac",
   "metadata": {},
   "outputs": [],
   "source": [
    "# initial_state.final_ans"
   ]
  },
  {
   "cell_type": "code",
   "execution_count": 13,
   "id": "57fc4746-cc0f-4bee-9ad4-46d1e876d87e",
   "metadata": {},
   "outputs": [],
   "source": [
    "from langgraph.checkpoint.postgres import PostgresSaver\n",
    "\n",
    "from psycopg_pool import ConnectionPool\n",
    "\n",
    "connection_kwargs = {\n",
    "    \"autocommit\": True,\n",
    "    \"prepare_threshold\": 0,\n",
    "}\n",
    "\n",
    "pool = ConnectionPool(\n",
    "    conninfo=DATABASE_URL,\n",
    "    min_size=1,  # Ensure at least one connection is available\n",
    "    max_size=10, # Prevent connection exhaustion\n",
    "    kwargs=connection_kwargs,\n",
    ")\n",
    "\n",
    "checkpointer = PostgresSaver(pool)\n",
    "checkpointer.setup()"
   ]
  },
  {
   "cell_type": "code",
   "execution_count": 14,
   "id": "aef693b9-f838-4380-8954-345d62e0f3da",
   "metadata": {},
   "outputs": [],
   "source": [
    "graph = StateGraph(DoctorSearchState)\n",
    "graph.add_node(\"schema_analyzer\", schema_analyzer)\n",
    "graph.add_node(\"query_generator_and_executor\", query_generator_and_executor)\n",
    "\n",
    "# Define the flow\n",
    "graph.add_edge(\"schema_analyzer\", \"query_generator_and_executor\")\n",
    "graph.add_edge(\"query_generator_and_executor\", END)\n",
    "\n",
    "graph.set_entry_point(\"schema_analyzer\")\n",
    "app = graph.compile(checkpointer=checkpointer, interrupt_before=[\"query_generator_and_executor\"])"
   ]
  },
  {
   "cell_type": "code",
   "execution_count": 15,
   "id": "eaca535f-b93e-4391-b6ef-19924b840bb6",
   "metadata": {},
   "outputs": [
    {
     "data": {
      "image/png": "[encoded data removed]",
      "text/plain": [
       "<IPython.core.display.Image object>"
      ]
     },
     "metadata": {},
     "output_type": "display_data"
    }
   ],
   "source": [
    "from IPython.display import display, Image\n",
    "from langchain_core.runnables.graph import MermaidDrawMethod\n",
    "\n",
    "display(\n",
    "    Image(\n",
    "        app.get_graph().draw_mermaid_png(\n",
    "            draw_method=MermaidDrawMethod.API,\n",
    "        ),\n",
    "    )\n",
    ")"
   ]
  },
  {
   "cell_type": "code",
   "execution_count": 16,
   "id": "c56452ca-37f2-4a10-8ad2-0dda043aed18",
   "metadata": {},
   "outputs": [],
   "source": [
    "initial_state = DoctorSearchState(\n",
    "    task= \"Find a Doctor for me\",\n",
    "    questions= [],\n",
    "    need_input= False,\n",
    "    answers= \"\",\n",
    "    nlp_query= \"\",\n",
    "    final_ans= \"\",\n",
    ")\n",
    "thread = {\"configurable\": {\"thread_id\": \"34\"}}\n",
    "result_states = []"
   ]
  },
  {
   "cell_type": "code",
   "execution_count": 17,
   "id": "0cf103ed-4289-4311-aa78-42920293c55b",
   "metadata": {},
   "outputs": [],
   "source": [
    "result = app.invoke(initial_state, thread)"
   ]
  },
  {
   "cell_type": "code",
   "execution_count": 18,
   "id": "a9b3fcd7-844d-4ceb-9fca-cbb4674508e2",
   "metadata": {},
   "outputs": [],
   "source": [
    "state = app.get_state(thread)"
   ]
  },
  {
   "cell_type": "code",
   "execution_count": null,
   "id": "ee0e2cdc-0bf6-4446-b98c-2d767ec2b2c2",
   "metadata": {},
   "outputs": [],
   "source": []
  },
  {
   "cell_type": "code",
   "execution_count": 19,
   "id": "4c5e71aa-3cb4-40a1-a475-c63f69fb9c3e",
   "metadata": {},
   "outputs": [
    {
     "name": "stdout",
     "output_type": "stream",
     "text": [
      "1. Which city or region are you looking for a doctor in (e.g., Sylhet, Dinajpur, Rajshahi)?\n",
      "2. What day of the week would you prefer for an appointment (e.g., Friday, Wednesday, Tuesday)?\n",
      "3. Is there a specific area or road you would prefer the doctor's office to be located on (e.g., Moulvibazar, Main Road, Station Road)?\n"
     ]
    },
    {
     "name": "stdin",
     "output_type": "stream",
     "text": [
      " 1. Sylhet 2. Friday 3. Moulvibazar\n"
     ]
    }
   ],
   "source": [
    "if state.next[0] == 'query_generator_and_executor':\n",
    "    for q in result['questions']:\n",
    "        print(q)\n",
    "    user_input = input()\n",
    "    app.update_state(state.config, values = {\"answers\": user_input})"
   ]
  },
  {
   "cell_type": "code",
   "execution_count": 20,
   "id": "bd4e200c-74f7-4702-be30-b848146ccbad",
   "metadata": {},
   "outputs": [],
   "source": [
    "state = app.get_state(thread)"
   ]
  },
  {
   "cell_type": "code",
   "execution_count": 21,
   "id": "42669493-2397-4ca3-99a3-648a6d66fb75",
   "metadata": {},
   "outputs": [
    {
     "name": "stdout",
     "output_type": "stream",
     "text": [
      "\n",
      "\n",
      "\u001b[1m> Entering new SQL Agent Executor chain...\u001b[0m\n",
      "\u001b[32;1m\u001b[1;3m\n",
      "Invoking: `sql_db_list_tables` with `{}`\n",
      "\n",
      "\n",
      "\u001b[0m\u001b[38;5;200m\u001b[1;3mdoctors\u001b[0m\u001b[32;1m\u001b[1;3m\n",
      "Invoking: `sql_db_schema` with `{'table_names': 'doctors'}`\n",
      "\n",
      "\n",
      "\u001b[0m\u001b[33;1m\u001b[1;3m\n",
      "CREATE TABLE doctors (\n",
      "\tid SERIAL NOT NULL, \n",
      "\tname VARCHAR(100) NOT NULL, \n",
      "\tdivision VARCHAR(50) NOT NULL, \n",
      "\tdistrict VARCHAR(50) NOT NULL, \n",
      "\tchamber_location VARCHAR(150) NOT NULL, \n",
      "\tappoint_number VARCHAR(15) NOT NULL, \n",
      "\tappointment_day VARCHAR(10) NOT NULL, \n",
      "\tfee INTEGER NOT NULL, \n",
      "\tCONSTRAINT doctors_pkey PRIMARY KEY (id)\n",
      ")\n",
      "\n",
      "/*\n",
      "3 rows from doctors table:\n",
      "id\tname\tdivision\tdistrict\tchamber_location\tappoint_number\tappointment_day\tfee\n",
      "1\tDr. Md. Rahman\tSylhet\tMoulvibazar\tSadar, Moulvibazar\t+88001921924295\tFriday\t559\n",
      "2\tDr. Rahman\tRangpur\tDinajpur\tMain Road, Dinajpur\t+88001779215861\tWednesday\t1726\n",
      "3\tDr. Md. Karim\tRajshahi\tRajshahi\tStation Road, Rajshahi\t+88001783627821\tTuesday\t960\n",
      "*/\u001b[0m\u001b[32;1m\u001b[1;3mThe database contains a table named \"doctors\" with information about doctors, including their name, division, district, chamber location, appointment number, appointment day, and fee. However, there is no data specifically related to doctors' specializations or conditions they treat in the available schema.\n",
      "\n",
      "Given the information in the database, I'm unable to locate a doctor who specializes in specific conditions. Therefore, I can only assist with general doctor information like locations, appointment details, and fees. If you have any other questions or need further assistance, feel free to ask!\u001b[0m\n",
      "\n",
      "\u001b[1m> Finished chain.\u001b[0m\n"
     ]
    }
   ],
   "source": [
    "result = app.invoke(None,  thread)"
   ]
  },
  {
   "cell_type": "code",
   "execution_count": 24,
   "id": "640b50b5-c3c4-4408-bfc1-c7f6719db7a4",
   "metadata": {},
   "outputs": [
    {
     "data": {
      "text/plain": [
       "'The database contains a table named \"doctors\" with information about doctors, including their name, division, district, chamber location, appointment number, appointment day, and fee. However, there is no data specifically related to doctors\\' specializations or conditions they treat in the available schema.\\n\\nGiven the information in the database, I\\'m unable to locate a doctor who specializes in specific conditions. Therefore, I can only assist with general doctor information like locations, appointment details, and fees. If you have any other questions or need further assistance, feel free to ask!'"
      ]
     },
     "execution_count": 24,
     "metadata": {},
     "output_type": "execute_result"
    }
   ],
   "source": [
    "result['final_ans']"
   ]
  },
  {
   "cell_type": "code",
   "execution_count": null,
   "id": "29063fc7-e032-4e4f-ad87-0c8270ba7411",
   "metadata": {},
   "outputs": [],
   "source": []
  }
 ],
 "metadata": {
  "kernelspec": {
   "display_name": "Python 3 (ipykernel)",
   "language": "python",
   "name": "python3"
  },
  "language_info": {
   "codemirror_mode": {
    "name": "ipython",
    "version": 3
   },
   "file_extension": ".py",
   "mimetype": "text/x-python",
   "name": "python",
   "nbconvert_exporter": "python",
   "pygments_lexer": "ipython3",
   "version": "3.11.0"
  }
 },
 "nbformat": 4,
 "nbformat_minor": 5
}
