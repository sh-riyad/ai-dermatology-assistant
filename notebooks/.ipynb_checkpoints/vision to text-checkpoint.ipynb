{
 "cells": [
  {
   "cell_type": "code",
   "execution_count": 18,
   "id": "05daac81-7e6b-4c6e-b4fc-b230c52ef84c",
   "metadata": {},
   "outputs": [],
   "source": [
    "import os\n",
    "import base64\n",
    "from openai import OpenAI\n",
    "from dotenv import load_dotenv\n",
    "load_dotenv()\n",
    "\n",
    "os.environ[\"OPENAI_API_KEY\"] = os.getenv(\"OPENAI_API_KEY\")\n",
    "\n",
    "client = OpenAI()"
   ]
  },
  {
   "cell_type": "code",
   "execution_count": 19,
   "id": "133c0428-b60d-44e0-9447-bdb12db56162",
   "metadata": {},
   "outputs": [],
   "source": [
    "# Function to encode the image\n",
    "def encode_image(image_path):\n",
    "    with open(image_path, \"rb\") as image_file:\n",
    "        return base64.b64encode(image_file.read()).decode(\"utf-8\")"
   ]
  },
  {
   "cell_type": "code",
   "execution_count": 20,
   "id": "c27186c7-963e-4fc8-ae1a-0942be40b0bd",
   "metadata": {},
   "outputs": [],
   "source": [
    "image_path = \"img/leg ulcer.jpg\"\n",
    "\n",
    "base64_image = encode_image(image_path)"
   ]
  },
  {
   "cell_type": "code",
   "execution_count": 21,
   "id": "5838a6fe-8790-4ca8-a1c3-36146bc38bfc",
   "metadata": {},
   "outputs": [],
   "source": [
    "completion = client.chat.completions.create(\n",
    "    model=\"gpt-4.1\",\n",
    "    messages=[\n",
    "        {\n",
    "            \"role\": \"user\",\n",
    "            \"content\": [\n",
    "                { \"type\": \"text\", \"text\": \"what's in this image?\" },\n",
    "                {\n",
    "                    \"type\": \"image_url\",\n",
    "                    \"image_url\": {\n",
    "                        \"url\": f\"data:image/jpeg;base64,{base64_image}\",\n",
    "                    },\n",
    "                },\n",
    "            ],\n",
    "        }\n",
    "    ],\n",
    ")"
   ]
  },
  {
   "cell_type": "code",
   "execution_count": 22,
   "id": "dee748e0-b0b0-44c7-858e-06f61eae6790",
   "metadata": {},
   "outputs": [
    {
     "name": "stdout",
     "output_type": "stream",
     "text": [
      "This image shows a close-up of the lower leg and ankle with noticeable skin changes. There is **hyperpigmentation** (dark discoloration) around the ankle area, along with some thickening and possibly scaling of the skin. These are classic signs of **venous stasis dermatitis** (also known as stasis eczema or gravitational eczema) commonly associated with **chronic venous insufficiency**. The darker area is due to hemosiderin deposition from the breakdown of red blood cells leaking out of unhealthy veins. \n",
      "\n",
      "If you or someone you know is experiencing something similar, it's important to consult a healthcare professional for a proper diagnosis and management plan.\n"
     ]
    }
   ],
   "source": [
    "print(completion.choices[0].message.content)"
   ]
  },
  {
   "cell_type": "code",
   "execution_count": 23,
   "id": "cbb10978-9e10-4573-b913-4eda1fccfb01",
   "metadata": {},
   "outputs": [],
   "source": [
    "prompt = \"\"\"\n",
    "1. Image Preprocessing & Validation:\n",
    "   - [Indicate if the image is valid for analysis; if not, explain why.]\n",
    "\n",
    "2. Body Part Detection:\n",
    "   - [e.g., “This appears to be a forearm,” or “Body part not identified.”]\n",
    "\n",
    "3. Segmentation:\n",
    "   - Region A: [Description, e.g., healthy skin]\n",
    "   - Region B: [Description, e.g., mild discoloration]\n",
    "   - Region C: [Description, e.g., background]\n",
    "\n",
    "4. Abnormal/Infected Areas:\n",
    "   - [Describe each suspicious region with size, shape, color, texture, etc.]\n",
    "\n",
    "5. Explanation & Reasoning:\n",
    "   - [Explain why these regions are potentially infected or abnormal, referencing specific morphological clues.]\n",
    "\"\"\""
   ]
  },
  {
   "cell_type": "code",
   "execution_count": 26,
   "id": "82bbcd8f-685b-43a0-aa88-e826e10e3db1",
   "metadata": {},
   "outputs": [],
   "source": [
    "completion = client.chat.completions.create(\n",
    "    model=\"gpt-4.1\",\n",
    "    messages=[\n",
    "        {\n",
    "            \"role\": \"user\",\n",
    "            \"content\": [\n",
    "                { \"type\": \"text\", \"text\": prompt },\n",
    "                {\n",
    "                    \"type\": \"image_url\",\n",
    "                    \"image_url\": {\n",
    "                        \"url\": f\"data:image/jpeg;base64,{base64_image}\",\n",
    "                    },\n",
    "                },\n",
    "            ],\n",
    "        }\n",
    "    ],\n",
    ")\n",
    "\n"
   ]
  },
  {
   "cell_type": "code",
   "execution_count": 28,
   "id": "f6a0f6ad-f049-4b79-a8c1-8f36244299d0",
   "metadata": {},
   "outputs": [
    {
     "data": {
      "text/markdown": [
       "Sure, here is a structured clinical image analysis based on your criteria:\n",
       "\n",
       "---\n",
       "\n",
       "**1. Image Preprocessing & Validation:**  \n",
       "- **Valid for analysis:** Yes, the image is clear, well-lit, and focused on a single anatomical region of interest. The skin features are visible and distinct.\n",
       "\n",
       "---\n",
       "\n",
       "**2. Body Part Detection:**  \n",
       "- **Identified body part:** This appears to be the medial aspect of the left ankle and lower leg.\n",
       "\n",
       "---\n",
       "\n",
       "**3. Segmentation:**\n",
       "- **Region A:** Healthy or less affected skin—seen towards the upper leg and foot, displaying normal to mildly erythematous or pinkish skin color and smooth texture.\n",
       "- **Region B:** Area of hyperpigmentation and textural change—central to the image, with a dark brown to violaceous discoloration and some visible scaling or roughness.\n",
       "- **Region C:** Background—green drape beneath the limb, no clinical relevance.\n",
       "\n",
       "---\n",
       "\n",
       "**4. Abnormal/Infected Areas:**  \n",
       "- **Description:**  \n",
       "  - **Size:** Several centimeters spanning above and just below the medial malleolus.\n",
       "  - **Shape:** Irregular, roughly ovoid patch.\n",
       "  - **Color:** Deep brown to purple, with surrounding areas blending to a lighter brown. Some scattered lighter patches within the darker lesion.\n",
       "  - **Texture:** Noticeable thickening and roughness; also some small bumps or nodularities within the pigmented patch.\n",
       "  - **Borders:** Poorly defined, irregular borders.\n",
       "\n",
       "---\n",
       "\n",
       "**5. Explanation & Reasoning:**  \n",
       "- **Potential abnormality:** The combination of hyperpigmentation, textural thickening, and poorly defined, irregular borders is suspicious for chronic skin changes rather than an acute infection.\n",
       "- **Morphological clues:**  \n",
       "  - The discoloration (brown/purple) is suggestive of hemosiderin deposition, typical in chronic venous stasis or stasis dermatitis.\n",
       "  - The skin thickening and nodularity may reflect chronic inflammation or lichenification.\n",
       "  - No obvious signs of acute infection (e.g., pus, rapidly advancing erythema, acute swelling), but the area could be prone to secondary infection due to chronic skin barrier impairment.\n",
       "- **Summary:** The abnormal region likely represents **chronic venous stasis changes (stasis dermatitis),** possibly with secondary lichenification. The key clues are the color (suggesting old blood/iron deposits), borders (chronic, irregular), and texture (thickened, possibly itchy or inflamed).\n",
       "\n",
       "---\n",
       "\n",
       "**If you need recommendations for further diagnostics or management, please let me know!**"
      ],
      "text/plain": [
       "<IPython.core.display.Markdown object>"
      ]
     },
     "metadata": {},
     "output_type": "display_data"
    }
   ],
   "source": [
    "from IPython.display import Markdown, display\n",
    "display(Markdown(completion.choices[0].message.content))"
   ]
  },
  {
   "cell_type": "code",
   "execution_count": 32,
   "id": "9a50d545-cbad-4496-8714-db40cbebc883",
   "metadata": {},
   "outputs": [
    {
     "data": {
      "text/markdown": [
       "**1. Image Preprocessing & Validation:**  \n",
       "- **Valid for analysis:** Yes, the image is clear, focused, and shows a well-lit close-up of the upper face, specifically around the eyes.\n",
       "\n",
       "**2. Body Part Detection:**  \n",
       "- **Body part identified:** Periorbital region (area around the eyes, including upper eyelids and the direct surrounding skin).\n",
       "\n",
       "**3. Segmentation:**  \n",
       "- **Region A:** The majority of the facial skin surrounding the eyes appears to be normal in color and texture.\n",
       "- **Region B:** There are distinct, lighter patches (hypopigmented areas) present on both upper eyelids and below the eyebrows.\n",
       "- **Region C:** The background is out of focus or not visible, with all focus on the facial skin.\n",
       "\n",
       "**4. Abnormal/Infected Areas:**  \n",
       "- **Description:**\n",
       "  - **Size:** The lighter patches are approximately 2–3 cm in diameter, found symmetrically above each eyelid.\n",
       "  - **Shape:** Irregular, non-circular, somewhat patchy, not following a specific line or natural crease.\n",
       "  - **Color:** Noticeably lighter (hypopigmented) compared to the surrounding normal skin.\n",
       "  - **Texture:** The texture appears mostly normal (no obvious scaling, erosions, or raised edges).\n",
       "  - **Distribution:** Bilateral, involving the periocular area, particularly over the upper eyelids/under eyebrows.\n",
       "\n",
       "**5. Explanation & Reasoning:**  \n",
       "- **Potential Diagnosis:**\n",
       "  - The observed regions are likely abnormal due to their distinct hypopigmentation compared to the surrounding skin.\n",
       "  - **Morphological clues**: These areas lack pigment but do not show redness, swelling, scaling, or ulceration, suggesting a non-inflammatory process affecting skin pigmentation.\n",
       "  - The symmetrical, localized nature around the eyes and the pattern suggest a pigmentary disorder, commonly consistent with *vitiligo* or another form of localized hypopigmentation. \n",
       "  - **Why likely abnormal/infected:** The sudden transition in pigmentation, with sharply demarcated borders and absence of secondary changes (like crusting or scaling), is characteristic of conditions where melanocytes are affected, such as vitiligo, rather than infection or an inflammatory rash.\n",
       "\n",
       "**Note:** For definitive diagnosis, especially differentiation from other causes of hypopigmentation (e.g., post-inflammatory hypopigmentation, tinea versicolor, or other dermatoses), clinical history, possible Wood’s lamp examination, and further dermatological evaluation would be recommended."
      ],
      "text/plain": [
       "<IPython.core.display.Markdown object>"
      ]
     },
     "metadata": {},
     "output_type": "display_data"
    }
   ],
   "source": [
    "image_path = \"img/example.jpg\"\n",
    "\n",
    "base64_image = encode_image(image_path)\n",
    "\n",
    "completion = client.chat.completions.create(\n",
    "    model=\"gpt-4.1\",\n",
    "    messages=[\n",
    "        {\n",
    "            \"role\": \"user\",\n",
    "            \"content\": [\n",
    "                { \"type\": \"text\", \"text\": prompt },\n",
    "                {\n",
    "                    \"type\": \"image_url\",\n",
    "                    \"image_url\": {\n",
    "                        \"url\": f\"data:image/jpeg;base64,{base64_image}\",\n",
    "                    },\n",
    "                },\n",
    "            ],\n",
    "        }\n",
    "    ],\n",
    ")\n",
    "display(Markdown(completion.choices[0].message.content))\n"
   ]
  },
  {
   "cell_type": "code",
   "execution_count": null,
   "id": "2ff62554-7ce7-4af1-a1dd-301b1dbde60e",
   "metadata": {},
   "outputs": [],
   "source": []
  }
 ],
 "metadata": {
  "kernelspec": {
   "display_name": "Python 3 (ipykernel)",
   "language": "python",
   "name": "python3"
  },
  "language_info": {
   "codemirror_mode": {
    "name": "ipython",
    "version": 3
   },
   "file_extension": ".py",
   "mimetype": "text/x-python",
   "name": "python",
   "nbconvert_exporter": "python",
   "pygments_lexer": "ipython3",
   "version": "3.11.0"
  }
 },
 "nbformat": 4,
 "nbformat_minor": 5
}
