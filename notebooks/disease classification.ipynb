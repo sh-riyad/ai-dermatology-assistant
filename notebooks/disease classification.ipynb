{
 "cells": [
  {
   "cell_type": "code",
   "execution_count": 1,
   "id": "e9e5c498-8ca3-484b-b7f8-06596a9b378b",
   "metadata": {},
   "outputs": [],
   "source": [
    "# pip install -q langchain_tavily langgraph-checkpoint-postgres"
   ]
  },
  {
   "cell_type": "code",
   "execution_count": null,
   "id": "9263585b-0854-451f-b89c-368b0db29ea2",
   "metadata": {},
   "outputs": [],
   "source": []
  },
  {
   "cell_type": "code",
   "execution_count": 1,
   "id": "c4bb63f4-f5c7-4d74-8555-176bdc0e73e9",
   "metadata": {},
   "outputs": [],
   "source": [
    "import os\n",
    "from typing import List, Dict, TypedDict\n",
    "from langchain_openai import ChatOpenAI\n",
    "from langchain_tavily import TavilySearch\n",
    "from langgraph.graph import StateGraph, END\n",
    "from langchain_core.messages import BaseMessage, HumanMessage, AIMessage, SystemMessage\n",
    "from IPython.display import display, Markdown"
   ]
  },
  {
   "cell_type": "code",
   "execution_count": 2,
   "id": "f954bb9f-a831-4c05-8174-954e95ce36d8",
   "metadata": {},
   "outputs": [],
   "source": [
    "from dotenv import load_dotenv\n",
    "load_dotenv()\n",
    "\n",
    "os.environ[\"OPENAI_API_KEY\"] = os.getenv(\"OPENAI_API_KEY\")\n",
    "os.environ[\"TAVILY_API_KEY\"] = os.getenv(\"TAVILY_API_KEY\")\n",
    "DATABASE_URL = os.getenv(\"DATABASE_URL\")\n",
    "\n",
    "llm = ChatOpenAI(model=\"gpt-4o\")\n",
    "tavily= TavilySearch(max_results=2,\n",
    "                     topic=\"general\",\n",
    "                     # include_answer=False,\n",
    "                     # include_raw_content=False,\n",
    "                     # include_images=False,\n",
    "                     # include_image_descriptions=False,\n",
    "                     # search_depth=\"basic\",\n",
    "                     # time_range=\"day\",\n",
    "                     # include_domains=None,\n",
    "                     # exclude_domains=None\n",
    "                    )"
   ]
  },
  {
   "cell_type": "code",
   "execution_count": 3,
   "id": "2f9f0cf4-f284-4789-ba3b-a4276c2f5fd4",
   "metadata": {},
   "outputs": [
    {
     "name": "stdout",
     "output_type": "stream",
     "text": [
      "Requirement already satisfied: psycopg-binary in c:\\users\\saraw\\appdata\\local\\programs\\python\\python311\\lib\\site-packages (3.2.6)\n",
      "Note: you may need to restart the kernel to use updated packages.\n"
     ]
    },
    {
     "name": "stderr",
     "output_type": "stream",
     "text": [
      "\n",
      "[notice] A new release of pip available: 22.3 -> 25.0.1\n",
      "[notice] To update, run: C:\\Users\\saraw\\AppData\\Local\\Programs\\Python\\Python311\\python.exe -m pip install --upgrade pip\n"
     ]
    }
   ],
   "source": [
    "pip install psycopg-binary"
   ]
  },
  {
   "cell_type": "code",
   "execution_count": 4,
   "id": "06a992b6-59f4-4b31-aa21-99aa3a66ec2f",
   "metadata": {},
   "outputs": [
    {
     "name": "stdout",
     "output_type": "stream",
     "text": [
      "Name: psycopg\n",
      "Version: 3.2.6\n",
      "Summary: PostgreSQL database adapter for Python\n",
      "Home-page: https://psycopg.org/psycopg3/\n",
      "Author: Daniele Varrazzo\n",
      "Author-email: daniele.varrazzo@gmail.com\n",
      "License: GNU Lesser General Public License v3 (LGPLv3)\n",
      "Location: C:\\Users\\saraw\\AppData\\Local\\Programs\\Python\\Python311\\Lib\\site-packages\n",
      "Requires: typing-extensions, tzdata\n",
      "Required-by: langgraph-checkpoint-postgres\n",
      "---\n",
      "Name: psycopg2-binary\n",
      "Version: 2.9.10\n",
      "Summary: psycopg2 - Python-PostgreSQL Database Adapter\n",
      "Home-page: https://psycopg.org/\n",
      "Author: Federico Di Gregorio\n",
      "Author-email: fog@initd.org\n",
      "License: LGPL with exceptions\n",
      "Location: C:\\Users\\saraw\\AppData\\Local\\Programs\\Python\\Python311\\Lib\\site-packages\n",
      "Requires: \n",
      "Required-by: \n",
      "Note: you may need to restart the kernel to use updated packages.\n"
     ]
    }
   ],
   "source": [
    "pip show psycopg psycopg2-binary"
   ]
  },
  {
   "cell_type": "code",
   "execution_count": 5,
   "id": "25c0a5f0-2e2c-4936-87bc-17207c58fc0d",
   "metadata": {},
   "outputs": [],
   "source": [
    "from langgraph.checkpoint.postgres import PostgresSaver\n",
    "\n",
    "from psycopg_pool import ConnectionPool\n",
    "\n",
    "connection_kwargs = {\n",
    "    \"autocommit\": True,\n",
    "    \"prepare_threshold\": 0,\n",
    "}\n",
    "\n",
    "pool = ConnectionPool(\n",
    "    conninfo=DATABASE_URL,\n",
    "    min_size=1,  # Ensure at least one connection is available\n",
    "    max_size=10, # Prevent connection exhaustion\n",
    "    kwargs=connection_kwargs,\n",
    ")\n",
    "\n",
    "checkpointer = PostgresSaver(pool)\n",
    "checkpointer.setup()"
   ]
  },
  {
   "cell_type": "code",
   "execution_count": 6,
   "id": "2abf7aa8-c413-4207-8d57-ea13597748e0",
   "metadata": {},
   "outputs": [],
   "source": [
    "HYPOTHESIS_PROMPT = \"Based on the description: '{description}', list possible 3 skin diseases.\"\n",
    "\n",
    "RESEARCH_PLAN_PROMPT = \"Generate a research plan to gather information about the following skin diseases: {diseases}. Focus on symptoms, causes, and diagnostic criteria.\"\n",
    "\n",
    "QUESTION_SELECTOR_PROMPT = \"Based on the research findings and current hypotheses, generate a simple, relevant question to ask the user to refine the diagnosis. Avoid repeating questions from the conversation history.\"\n",
    "\n",
    "HYPOTHESIS_UPDATE_PROMPT = \"Update the list of possible skin diseases with probabilities (as decimals between 0 and 1) based on the initial description and conversation history.\""
   ]
  },
  {
   "cell_type": "code",
   "execution_count": 7,
   "id": "d0398677-e122-41e1-ab4d-dd9b44770895",
   "metadata": {},
   "outputs": [],
   "source": [
    "class State(TypedDict):\n",
    "    conversation_history: List[BaseMessage]\n",
    "    current_hypotheses: List[tuple[str, float]]\n",
    "    research_findings: Dict[str, str]\n",
    "    research_queries: List[str]\n",
    "    user_responses: List[str]\n",
    "    iteration_count: int\n",
    "    input_description: str\n",
    "    confident: bool\n",
    "    current_question: str\n",
    "    final_ans: str"
   ]
  },
  {
   "cell_type": "code",
   "execution_count": 8,
   "id": "7ca478b1-7130-41a3-b397-d3bdb9433920",
   "metadata": {},
   "outputs": [],
   "source": [
    "# initial_state = {\n",
    "#     \"conversation_history\": [],\n",
    "#     \"current_hypotheses\": [],\n",
    "#     \"research_findings\": {},\n",
    "#     \"research_queries\": [],\n",
    "#     \"user_responses\": [],\n",
    "#     \"iteration_count\": 0,\n",
    "#     \"input_description\": \"I have a red, itchy rash on my arm.\",\n",
    "#     \"confident\": False,\n",
    "#     \"current_question\": \"\"\n",
    "# }"
   ]
  },
  {
   "cell_type": "code",
   "execution_count": 10,
   "id": "ce874a0c-07d3-431d-967b-fc35d6225b9e",
   "metadata": {},
   "outputs": [],
   "source": [
    "def input_processor(state: State) -> State:\n",
    "    \"\"\"Processes initial user input if not already provided.\"\"\"\n",
    "    if not state['input_description']:\n",
    "        user_input = input(\"Please describe your skin condition: \")\n",
    "        state['input_description'] = user_input\n",
    "        state['conversation_history'].append(HumanMessage(content=user_input))\n",
    "    else:\n",
    "        state['conversation_history'].append(HumanMessage(content=state['input_description']))\n",
    "    return state"
   ]
  },
  {
   "cell_type": "code",
   "execution_count": 11,
   "id": "e92ca0f2-76a9-49ec-bae8-ae0ed2fb965c",
   "metadata": {},
   "outputs": [],
   "source": [
    "# input_processor(initial_state)\n",
    "\n",
    "# initial_state"
   ]
  },
  {
   "cell_type": "code",
   "execution_count": 12,
   "id": "84dca609-d206-4a71-a1fa-a8fb749f83de",
   "metadata": {},
   "outputs": [],
   "source": [
    "def hypothesis_generator(state: State) -> State:\n",
    "    \"\"\"Generates initial disease hypotheses.\"\"\"\n",
    "    prompt = HYPOTHESIS_PROMPT.format(description=state['input_description'])\n",
    "    response = llm.invoke([SystemMessage(content=\"You are a dermatology assistant.\"), \n",
    "                          HumanMessage(content=prompt)])\n",
    "    diseases = [d.strip() for d in response.content.split('\\n') if d.strip()]\n",
    "    state['current_hypotheses'] = [(disease, 1.0 / len(diseases)) for disease in diseases]\n",
    "    return state"
   ]
  },
  {
   "cell_type": "code",
   "execution_count": 13,
   "id": "4c916f0c-e6ae-489f-af2e-e427a3b07ab7",
   "metadata": {
    "scrolled": true
   },
   "outputs": [],
   "source": [
    "# hypothesis_generator(initial_state)\n",
    "\n",
    "# initial_state['current_hypotheses']"
   ]
  },
  {
   "cell_type": "code",
   "execution_count": 14,
   "id": "ac3b5f08-8a66-4869-8c92-b36eef8a087a",
   "metadata": {},
   "outputs": [],
   "source": [
    "# def research_planner(state: State) -> State:\n",
    "#     \"\"\"Plans research using AI.\"\"\"\n",
    "#     diseases = ', '.join([disease for disease, _ in state['current_hypotheses']])\n",
    "#     prompt = RESEARCH_PLAN_PROMPT.format(diseases=diseases)\n",
    "#     response = llm.invoke([SystemMessage(content=\"You are a dermatology research assistant.\"), \n",
    "#                           HumanMessage(content=prompt)])\n",
    "#     queries = [q.strip() for q in response.content.split('\\n') if q.strip()]\n",
    "#     state['research_queries'] = queries\n",
    "#     return state\n",
    "\n",
    "def research_planner(state: State) -> State:\n",
    "    \"\"\"Plans internet research by generating searchable queries based on hypotheses.\"\"\"\n",
    "    hypotheses = [disease for disease, _ in state['current_hypotheses']]\n",
    "    queries = []\n",
    "    for disease in hypotheses:\n",
    "        queries.append(f\"common symptoms of {disease} skin condition\")\n",
    "        queries.append(f\"causes of {disease} dermatology\")\n",
    "        queries.append(f\"diagnostic criteria for {disease} skin disease\")\n",
    "    state['research_queries'] = queries\n",
    "    return state"
   ]
  },
  {
   "cell_type": "code",
   "execution_count": 15,
   "id": "13147219-aedc-4452-a4e4-ae802000ad9e",
   "metadata": {
    "scrolled": true
   },
   "outputs": [],
   "source": [
    "# research_planner(initial_state)\n",
    "\n",
    "# initial_state['research_queries']"
   ]
  },
  {
   "cell_type": "code",
   "execution_count": 16,
   "id": "8339967c-d22c-46f4-9f95-e69400d0cffb",
   "metadata": {},
   "outputs": [],
   "source": [
    "def internet_researcher(state: State) -> State:\n",
    "    \"\"\"Conducts internet research.\"\"\"\n",
    "    findings = {}\n",
    "    for query in state['research_queries']:\n",
    "        results = tavily.invoke({\"query\": query})\n",
    "        findings[query] = results['results'][0]['content']\n",
    "    state['research_findings'].update(findings)\n",
    "    return state"
   ]
  },
  {
   "cell_type": "code",
   "execution_count": 17,
   "id": "bcdd3cc6-b83b-43ff-a6da-d9ec7eb96956",
   "metadata": {},
   "outputs": [],
   "source": [
    "# internet_researcher(initial_state)\n",
    "# initial_state['research_findings']"
   ]
  },
  {
   "cell_type": "code",
   "execution_count": null,
   "id": "62f00a12-174e-475d-bc1a-3af9259ca336",
   "metadata": {},
   "outputs": [],
   "source": []
  },
  {
   "cell_type": "code",
   "execution_count": 18,
   "id": "91fe948d-635c-4299-80f4-3b38ed9b64cf",
   "metadata": {},
   "outputs": [],
   "source": [
    "def question_selector(state: State) -> State:\n",
    "    \"\"\"Selects a simple question using AI.\"\"\"\n",
    "    history_text = \"\\n\".join([f\"{msg.type}: {msg.content}\" for msg in state['conversation_history']])\n",
    "    findings_text = \"\\n\".join([f\"{q}: {f}\" for q, f in state['research_findings'].items()])\n",
    "    prompt = QUESTION_SELECTOR_PROMPT + f\"\\n\\nResearch Findings:\\n{findings_text}\\n\\nConversation History:\\n{history_text}\"\n",
    "    response = llm.invoke([SystemMessage(content=\"You are a dermatology assistant.\"), \n",
    "                          HumanMessage(content=prompt)])\n",
    "    state['current_question'] = response.content.strip()\n",
    "    return state"
   ]
  },
  {
   "cell_type": "code",
   "execution_count": 19,
   "id": "a72ee668-9a29-4cbf-a58a-375b6bd8ebfb",
   "metadata": {},
   "outputs": [],
   "source": [
    "# question_selector(initial_state)\n",
    "# initial_state['current_question']"
   ]
  },
  {
   "cell_type": "code",
   "execution_count": 20,
   "id": "68d9d351-0da4-4e22-ac3a-fefa5609c4cf",
   "metadata": {},
   "outputs": [],
   "source": [
    "# def user_interactor(state: State) -> State:\n",
    "#     \"\"\"Interacts with the user.\"\"\"\n",
    "#     # print(f\"Question: {state['current_question']}\")\n",
    "#     # response = input(\"Your answer (yes/no or brief description): \")\n",
    "#     response = state['user_responses']\n",
    "#     state['conversation_history'].append(AIMessage(content=state['current_question']))\n",
    "#     state['conversation_history'].append(HumanMessage(content=response))\n",
    "#     # state['user_responses'].append(response)\n",
    "#     return state"
   ]
  },
  {
   "cell_type": "code",
   "execution_count": 21,
   "id": "313745b1-d2b3-4cdd-934d-21997dc7c451",
   "metadata": {
    "scrolled": true
   },
   "outputs": [],
   "source": [
    "# user_interactor(initial_state)"
   ]
  },
  {
   "cell_type": "code",
   "execution_count": 22,
   "id": "2d40c36d-0902-476f-9ee4-c8732302688e",
   "metadata": {},
   "outputs": [],
   "source": [
    "def hypothesis_updater(state: State) -> State:\n",
    "    \"\"\"Updates hypotheses based on history.\"\"\"\n",
    "    history_text = \"\\n\".join([f\"{msg.type}: {msg.content}\" for msg in state['conversation_history']])\n",
    "    prompt = HYPOTHESIS_UPDATE_PROMPT + f\"\\n\\nInitial Description: {state['input_description']}\\n\\nConversation History:\\n{history_text}\"\n",
    "    response = llm.invoke([SystemMessage(content=\"You are a dermatology assistant.\"), \n",
    "                          HumanMessage(content=prompt)])\n",
    "    lines = response.content.split('\\n')\n",
    "    updated_hypotheses = []\n",
    "    for line in lines:\n",
    "        if ':' in line:\n",
    "            parts = line.split(':')\n",
    "            if len(parts) == 2:\n",
    "                disease, prob = parts\n",
    "                try:\n",
    "                    updated_hypotheses.append((disease.strip(), float(prob.strip())))\n",
    "                except ValueError:\n",
    "                    continue\n",
    "    state['current_hypotheses'] = updated_hypotheses if updated_hypotheses else state['current_hypotheses']\n",
    "    return state"
   ]
  },
  {
   "cell_type": "code",
   "execution_count": 23,
   "id": "0eac37d9-85e1-4517-949d-d9965c3d21ab",
   "metadata": {},
   "outputs": [],
   "source": [
    "# hypothesis_updater(initial_state)"
   ]
  },
  {
   "cell_type": "code",
   "execution_count": 24,
   "id": "85203380-7037-4cfd-8598-7ad026dde991",
   "metadata": {},
   "outputs": [],
   "source": [
    "def confidence_checker(state: State) -> State:\n",
    "    \"\"\"Checks confidence level.\"\"\"\n",
    "    state['iteration_count'] += 1\n",
    "    if state['current_hypotheses']:\n",
    "        top_prob = max(prob for _, prob in state['current_hypotheses'])\n",
    "        if top_prob > 0.9 or state['iteration_count'] >= 3:\n",
    "            state['confident'] = True\n",
    "    return state"
   ]
  },
  {
   "cell_type": "code",
   "execution_count": 25,
   "id": "23868871-f8dd-4e25-846a-cf31e32263ac",
   "metadata": {},
   "outputs": [],
   "source": [
    "# confidence_checker(initial_state)"
   ]
  },
  {
   "cell_type": "code",
   "execution_count": 26,
   "id": "16e811e9-0c9e-4c14-b73b-a234411fc068",
   "metadata": {},
   "outputs": [],
   "source": [
    "def final_output_provider(state: State) -> State:\n",
    "    \"\"\"Provides the final diagnosis.\"\"\"\n",
    "    if state['current_hypotheses']:\n",
    "        top_disease, top_prob = max(state['current_hypotheses'], key=lambda x: x[1])\n",
    "        state['final_ans'] = f\"Diagnosis: {top_disease} with {top_prob*100:.2f}% confidence.\"\n",
    "    else:\n",
    "        print(\"Unable to determine a diagnosis.\")\n",
    "    return state"
   ]
  },
  {
   "cell_type": "code",
   "execution_count": 27,
   "id": "60fea8f6-3403-452b-8647-cead1bc7b3da",
   "metadata": {},
   "outputs": [
    {
     "data": {
      "text/plain": [
       "<langgraph.graph.state.StateGraph at 0x2ab235b5cd0>"
      ]
     },
     "execution_count": 27,
     "metadata": {},
     "output_type": "execute_result"
    }
   ],
   "source": [
    "graph = StateGraph(State)\n",
    "\n",
    "graph.add_node(\"input_processor\", input_processor)\n",
    "graph.add_node(\"hypothesis_generator\", hypothesis_generator)\n",
    "graph.add_node(\"research_planner\", research_planner)\n",
    "graph.add_node(\"internet_researcher\", internet_researcher)\n",
    "graph.add_node(\"question_selector\", question_selector)\n",
    "graph.add_node(\"hypothesis_updater\", hypothesis_updater)\n",
    "graph.add_node(\"confidence_checker\", confidence_checker)\n",
    "graph.add_node(\"final_output_provider\", final_output_provider)"
   ]
  },
  {
   "cell_type": "code",
   "execution_count": 28,
   "id": "f1980c48-93f2-41ba-adf7-af05aa95343c",
   "metadata": {},
   "outputs": [
    {
     "data": {
      "text/plain": [
       "<langgraph.graph.state.StateGraph at 0x2ab235b5cd0>"
      ]
     },
     "execution_count": 28,
     "metadata": {},
     "output_type": "execute_result"
    }
   ],
   "source": [
    "graph.add_edge(\"input_processor\", \"hypothesis_generator\")\n",
    "graph.add_edge(\"hypothesis_generator\", \"research_planner\")\n",
    "graph.add_edge(\"research_planner\", \"internet_researcher\")\n",
    "graph.add_edge(\"internet_researcher\", \"question_selector\")\n",
    "graph.add_edge(\"question_selector\", \"hypothesis_updater\")\n",
    "graph.add_edge(\"hypothesis_updater\", \"confidence_checker\")"
   ]
  },
  {
   "cell_type": "code",
   "execution_count": 29,
   "id": "56fea96d-96ef-4141-87b7-bc3e77f2d575",
   "metadata": {},
   "outputs": [],
   "source": [
    "def route_confidence(state: State) -> str:\n",
    "    return \"final_output_provider\" if state['confident'] else \"research_planner\"\n",
    "\n",
    "graph.add_conditional_edges(\"confidence_checker\", route_confidence, \n",
    "                            {\"final_output_provider\": \"final_output_provider\", \n",
    "                             \"research_planner\": \"research_planner\"})\n",
    "graph.add_edge(\"final_output_provider\", END)\n",
    "\n",
    "graph.set_entry_point(\"input_processor\")\n",
    "\n",
    "app = graph.compile(checkpointer=checkpointer, interrupt_before=[\"hypothesis_updater\"])"
   ]
  },
  {
   "cell_type": "code",
   "execution_count": 30,
   "id": "471e0533-03e1-4765-9e0a-8203b38aa46f",
   "metadata": {},
   "outputs": [
    {
     "data": {
      "image/png": "[encoded data removed]",
      "text/plain": [
       "<IPython.core.display.Image object>"
      ]
     },
     "metadata": {},
     "output_type": "display_data"
    }
   ],
   "source": [
    "from IPython.display import display, Image\n",
    "from langchain_core.runnables.graph import MermaidDrawMethod\n",
    "\n",
    "display(\n",
    "    Image(\n",
    "        app.get_graph().draw_mermaid_png(\n",
    "            draw_method=MermaidDrawMethod.API,\n",
    "        ),\n",
    "    )\n",
    ")"
   ]
  },
  {
   "cell_type": "code",
   "execution_count": null,
   "id": "14652251-98ff-4d67-a928-3ae9f82ce0c2",
   "metadata": {},
   "outputs": [],
   "source": []
  },
  {
   "cell_type": "code",
   "execution_count": 31,
   "id": "2d135ed3-76fd-4ae0-915a-66d557e3071c",
   "metadata": {},
   "outputs": [],
   "source": [
    "initial_state = {\n",
    "    \"conversation_history\": [],\n",
    "    \"current_hypotheses\": [],\n",
    "    \"research_findings\": {},\n",
    "    \"research_queries\": [],\n",
    "    \"user_responses\": \"\",\n",
    "    \"iteration_count\": 0,\n",
    "    \"input_description\": \"I have a red, itchy rash on my arm.\",\n",
    "    \"confident\": False,\n",
    "    \"current_question\": \"\",\n",
    "    \"final_ans\":\"\"\n",
    "}\n",
    "thread = {\"configurable\": {\"thread_id\": \"15\"}}\n",
    "result_states = []"
   ]
  },
  {
   "cell_type": "code",
   "execution_count": 32,
   "id": "a22070e6-200c-43eb-a84b-86907c1d7bc0",
   "metadata": {},
   "outputs": [],
   "source": [
    "result = app.invoke(initial_state, thread)"
   ]
  },
  {
   "cell_type": "code",
   "execution_count": 33,
   "id": "0e4706f1-3354-4e60-b985-03f523fb1782",
   "metadata": {},
   "outputs": [
    {
     "data": {
      "text/plain": [
       "[('Based on the description of a red, itchy rash on the arm, here are three possible skin conditions:',\n",
       "  0.2),\n",
       " ('1. **Contact Dermatitis**: This is a common skin reaction that can occur when the skin comes into contact with an allergen or irritant, such as certain soaps, plants (like poison ivy), or fabrics. It often results in a red, itchy rash.',\n",
       "  0.2),\n",
       " ('2. **Eczema (Atopic Dermatitis)**: Eczema is a chronic condition that causes inflamed, itchy, and sometimes blistered skin. It often appears on the arms and can be triggered by environmental factors or stress.',\n",
       "  0.2),\n",
       " ('3. **Psoriasis**: This is an autoimmune condition that leads to the rapid growth of skin cells, resulting in thick, red patches covered with silvery scales. While psoriasis can appear anywhere on the body, it often affects the arms, particularly the elbows.',\n",
       "  0.2),\n",
       " ('It is advisable to seek a professional evaluation from a dermatologist for an accurate diagnosis and appropriate treatment.',\n",
       "  0.2)]"
      ]
     },
     "execution_count": 33,
     "metadata": {},
     "output_type": "execute_result"
    }
   ],
   "source": [
    "result['current_hypotheses']"
   ]
  },
  {
   "cell_type": "code",
   "execution_count": 41,
   "id": "e2918b76-8547-4d2d-a610-f70edd66da4f",
   "metadata": {},
   "outputs": [
    {
     "ename": "TypeError",
     "evalue": "'tuple' object is not callable",
     "output_type": "error",
     "traceback": [
      "\u001b[31m---------------------------------------------------------------------------\u001b[39m",
      "\u001b[31mTypeError\u001b[39m                                 Traceback (most recent call last)",
      "\u001b[36mCell\u001b[39m\u001b[36m \u001b[39m\u001b[32mIn[41]\u001b[39m\u001b[32m, line 2\u001b[39m\n\u001b[32m      1\u001b[39m state = app.get_state(thread)\n\u001b[32m----> \u001b[39m\u001b[32m2\u001b[39m \u001b[43mstate\u001b[49m\u001b[43m.\u001b[49m\u001b[43mnext\u001b[49m\u001b[43m(\u001b[49m\u001b[43m)\u001b[49m\n",
      "\u001b[31mTypeError\u001b[39m: 'tuple' object is not callable"
     ]
    }
   ],
   "source": [
    "state = app.get_state(thread)\n",
    "state.next()"
   ]
  },
  {
   "cell_type": "code",
   "execution_count": null,
   "id": "1acdb025-1bf0-459b-b809-68d473a430e9",
   "metadata": {},
   "outputs": [],
   "source": []
  },
  {
   "cell_type": "code",
   "execution_count": 40,
   "id": "645724ca-3fac-43e2-b504-e218a07245a6",
   "metadata": {},
   "outputs": [],
   "source": [
    "if state.values:\n",
    "    print(\"hi\")"
   ]
  },
  {
   "cell_type": "code",
   "execution_count": 37,
   "id": "f6f56ab2-2ede-4879-a474-18737127c96e",
   "metadata": {},
   "outputs": [],
   "source": [
    "if state.values and state.values['final_ans']:\n",
    "    print(\"hi\")"
   ]
  },
  {
   "cell_type": "code",
   "execution_count": 53,
   "id": "6a84d718-d427-48d3-b189-7106b74006c2",
   "metadata": {},
   "outputs": [
    {
     "data": {
      "text/plain": [
       "{'configurable': {'thread_id': '10',\n",
       "  'checkpoint_ns': '',\n",
       "  'checkpoint_id': '1f015e07-6de0-6c68-800d-a2b0e948d706'}}"
      ]
     },
     "execution_count": 53,
     "metadata": {},
     "output_type": "execute_result"
    }
   ],
   "source": [
    "app.update_state(state.config, values = {\"final_ans\": \"hi\"})"
   ]
  },
  {
   "cell_type": "code",
   "execution_count": 56,
   "id": "328ed78b-2e01-4b6a-aa7c-55dc5f572942",
   "metadata": {},
   "outputs": [
    {
     "data": {
      "text/plain": [
       "'hi'"
      ]
     },
     "execution_count": 56,
     "metadata": {},
     "output_type": "execute_result"
    }
   ],
   "source": [
    "state.values['final_ans']"
   ]
  },
  {
   "cell_type": "code",
   "execution_count": 50,
   "id": "60ecadaa-d1e4-4437-bfb0-eb8c4045173f",
   "metadata": {},
   "outputs": [
    {
     "data": {
      "text/plain": [
       "{'configurable': {'thread_id': '10',\n",
       "  'checkpoint_ns': '',\n",
       "  'checkpoint_id': '1f015df8-8456-6052-800c-3909431a4f3a'}}"
      ]
     },
     "execution_count": 50,
     "metadata": {},
     "output_type": "execute_result"
    }
   ],
   "source": [
    "state.config"
   ]
  },
  {
   "cell_type": "code",
   "execution_count": null,
   "id": "eeb43075-fbe0-4285-a283-64cb43139365",
   "metadata": {},
   "outputs": [],
   "source": []
  },
  {
   "cell_type": "code",
   "execution_count": 38,
   "id": "a0d5b2d0-0939-4584-8611-a911fae7796f",
   "metadata": {},
   "outputs": [],
   "source": [
    "state.values['final_ans'] = \"Hello\"\n",
    "\n",
    "# checkpointer.save_state(thread, state)"
   ]
  },
  {
   "cell_type": "code",
   "execution_count": 34,
   "id": "96bc607e-6a7f-49e8-a69b-2ff7ab6b4a1a",
   "metadata": {},
   "outputs": [
    {
     "name": "stdout",
     "output_type": "stream",
     "text": [
      "hi\n"
     ]
    }
   ],
   "source": [
    "if not state.next:\n",
    "    print(\"hi\")"
   ]
  },
  {
   "cell_type": "code",
   "execution_count": null,
   "id": "e0c8e862-4567-43c0-85a0-f1addde50331",
   "metadata": {},
   "outputs": [],
   "source": []
  },
  {
   "cell_type": "code",
   "execution_count": 38,
   "id": "1cdefddf-8335-43b1-936c-7f715efb831e",
   "metadata": {},
   "outputs": [],
   "source": [
    "state = app.get_state(thread)"
   ]
  },
  {
   "cell_type": "code",
   "execution_count": 39,
   "id": "77b50493-1f0b-4ab1-9810-c3009e5b02a0",
   "metadata": {},
   "outputs": [
    {
     "data": {
      "text/plain": [
       "('hypothesis_updater',)"
      ]
     },
     "execution_count": 39,
     "metadata": {},
     "output_type": "execute_result"
    }
   ],
   "source": [
    "state.next"
   ]
  },
  {
   "cell_type": "code",
   "execution_count": 43,
   "id": "6f0ff070-b369-4984-a825-2989a2fc4527",
   "metadata": {},
   "outputs": [
    {
     "name": "stdout",
     "output_type": "stream",
     "text": [
      "Did your rash appear suddenly, and have you been in contact with any new products, such as soaps, lotions, or plants recently?\n"
     ]
    },
    {
     "name": "stdin",
     "output_type": "stream",
     "text": [
      " no\n"
     ]
    }
   ],
   "source": [
    "state = app.get_state(thread)\n",
    "if state.next[0] == 'hypothesis_updater':\n",
    "    print(state.values['current_question'])\n",
    "\n",
    "    input_text = input(\"\")\n",
    "    initial_state['user_responses'] = input_text\n",
    "    \n",
    "    result = app.invoke(initial_state, thread)"
   ]
  },
  {
   "cell_type": "code",
   "execution_count": 45,
   "id": "56573c6b-39d0-4be2-94ff-3bf6b7b1e096",
   "metadata": {},
   "outputs": [
    {
     "data": {
      "text/plain": [
       "('hypothesis_updater',)"
      ]
     },
     "execution_count": 45,
     "metadata": {},
     "output_type": "execute_result"
    }
   ],
   "source": [
    "state = app.get_state(thread)\n",
    "\n",
    "state.next"
   ]
  },
  {
   "cell_type": "code",
   "execution_count": 40,
   "id": "8dfa66b0-60c4-4d87-9dc4-83111c67fda7",
   "metadata": {},
   "outputs": [
    {
     "name": "stdout",
     "output_type": "stream",
     "text": [
      "Have you recently started using any new products on your skin, like lotions, soaps, or detergents, that could have come into contact with the area of the rash?\n"
     ]
    },
    {
     "name": "stdin",
     "output_type": "stream",
     "text": [
      " No\n"
     ]
    }
   ],
   "source": [
    "state = app.get_state(thread)\n",
    "if state.next[0] == 'hypothesis_updater':\n",
    "    print(state.values['current_question'])\n",
    "\n",
    "    input_text = input(\"\")\n",
    "    initial_state['user_responses'] = input_text\n",
    "    \n",
    "    for s in app.stream(initial_state, thread):\n",
    "        result_states.append(s)"
   ]
  }
 ],
 "metadata": {
  "kernelspec": {
   "display_name": "Python 3 (ipykernel)",
   "language": "python",
   "name": "python3"
  },
  "language_info": {
   "codemirror_mode": {
    "name": "ipython",
    "version": 3
   },
   "file_extension": ".py",
   "mimetype": "text/x-python",
   "name": "python",
   "nbconvert_exporter": "python",
   "pygments_lexer": "ipython3",
   "version": "3.13.3"
  }
 },
 "nbformat": 4,
 "nbformat_minor": 5
}
